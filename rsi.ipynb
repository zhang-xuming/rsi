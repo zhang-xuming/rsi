{
 "cells": [
  {
   "cell_type": "code",
   "execution_count": null,
   "id": "523ddb43",
   "metadata": {},
   "outputs": [],
   "source": [
    "import pandas as pd\n",
    "import numpy as np\n",
    "import talib as ta\n",
    "import mplfinance as mpf\n",
    "import matplotlib.pyplot as plt"
   ]
  },
  {
   "cell_type": "code",
   "execution_count": null,
   "id": "a8ac44bd",
   "metadata": {},
   "outputs": [],
   "source": [
    "df = pd.read_csv(\"zijin.csv\")"
   ]
  },
  {
   "cell_type": "code",
   "execution_count": null,
   "id": "5a17b1f9",
   "metadata": {},
   "outputs": [],
   "source": [
    "df = df[df[\"tradestatus\"] == 1]"
   ]
  },
  {
   "cell_type": "code",
   "execution_count": null,
   "id": "70a352ed",
   "metadata": {},
   "outputs": [],
   "source": [
    "df[\"rsi_6\"] = ta.RSI(df[\"Close\"],timeperiod=6)\n",
    "df[\"rsi_12\"] = ta.RSI(df[\"Close\"],timeperiod=12)\n",
    "df[\"rsi_24\"] = ta.RSI(df[\"Close\"],timeperiod=24)"
   ]
  },
  {
   "cell_type": "code",
   "execution_count": null,
   "id": "94ff49fa",
   "metadata": {},
   "outputs": [],
   "source": [
    "df2 = df[[\"Date\",\"Close\",\"rsi_6\",\"rsi_12\",\"rsi_24\"]]\n",
    "df2[\"Date\"] = pd.to_datetime(df2[\"Date\"])\n",
    "df2.index = df2[\"Date\"]"
   ]
  },
  {
   "cell_type": "code",
   "execution_count": null,
   "id": "b7a6e8c5",
   "metadata": {
    "scrolled": false
   },
   "outputs": [],
   "source": [
    "fig = plt.figure()\n",
    "fig.set_size_inches((25, 18))\n",
    "rsi = fig.add_axes((0, 0.24, 1, 0.5))\n",
    "rsi.plot(df2.index, df2[\"rsi_6\"], label=\"rsi_6\")\n",
    "rsi.plot(df2.index, df2[\"rsi_12\"], label=\"rsi_12\")\n",
    "rsi.plot(df2.index, df2[\"rsi_24\"], label=\"rsi_24\")\n",
    "rsi.plot(df2.index, [70] * len(df2.index), label=\"overbought\")\n",
    "rsi.plot(df2.index, [50] * len(df2.index), label=\"no trend\")\n",
    "rsi.plot(df2.index, [30] * len(df2.index), label=\"oversold\")\n",
    "\n",
    "rsi.legend()"
   ]
  },
  {
   "cell_type": "code",
   "execution_count": null,
   "id": "3c126e2e",
   "metadata": {},
   "outputs": [],
   "source": [
    "df2[\"position\"] = None \n",
    "df2[\"trade\"] = None \n",
    "bd = []\n",
    "bp = []\n",
    "sd = []\n",
    "sp = []\n",
    "for i in range(len(df2.index)): \n",
    "    if df2[\"rsi_6\"].iloc[i] < 30:\n",
    "        df2[\"position\"].iloc[i] = 'oversold'\n",
    "    elif df2[\"rsi_6\"].iloc[i] > 70:\n",
    "        df2[\"position\"].iloc[i] = 'overbought'\n",
    "    else:\n",
    "        df2[\"position\"].iloc[i] = None\n",
    "for i in range(len(df2[\"position\"])):\n",
    "    if df2[\"position\"].iloc[i-1] == 'oversold' and df2[\"position\"].iloc[i] == None:\n",
    "        df2[\"trade\"].iloc[i] = \"buy\"\n",
    "        bd.append(df2[\"Date\"].iloc[i])\n",
    "        bp.append(df2[\"Close\"].iloc[i])\n",
    "    if df2[\"position\"].iloc[i-1] == 'overbought' and df2[\"position\"].iloc[i] == None:\n",
    "        df2[\"trade\"].iloc[i] = \"sell\"\n",
    "        sd.append(df2[\"Date\"].iloc[i])\n",
    "        sp.append(df2[\"Close\"].iloc[i])"
   ]
  },
  {
   "cell_type": "code",
   "execution_count": null,
   "id": "bf7518d7",
   "metadata": {},
   "outputs": [],
   "source": [
    "df3 = df[[\"Date\",\"Open\",\"High\",\"Low\",\"Close\"]]\n",
    "df3[\"Date\"] = pd.to_datetime(df3[\"Date\"])\n",
    "df3.index = df3[\"Date\"]\n"
   ]
  },
  {
   "cell_type": "code",
   "execution_count": null,
   "id": "49eb378b",
   "metadata": {},
   "outputs": [],
   "source": [
    "fig = plt.figure()\n",
    "fig.set_size_inches((25, 18))\n",
    "kline = fig.add_axes((0, 0.24, 1, 0.5))\n",
    "kline.plot(df3.index, df3[\"Close\"], label = \"K line\")\n",
    "kline.plot(bd,bp,\"ro\", label = \"buy position\")\n",
    "kline.plot(sd,sp,\"ks\", label = \"sell position\")\n",
    "\n",
    "kline.legend()"
   ]
  }
 ],
 "metadata": {
  "kernelspec": {
   "display_name": "Python 3 (ipykernel)",
   "language": "python",
   "name": "python3"
  },
  "language_info": {
   "codemirror_mode": {
    "name": "ipython",
    "version": 3
   },
   "file_extension": ".py",
   "mimetype": "text/x-python",
   "name": "python",
   "nbconvert_exporter": "python",
   "pygments_lexer": "ipython3",
   "version": "3.9.7"
  }
 },
 "nbformat": 4,
 "nbformat_minor": 5
}
