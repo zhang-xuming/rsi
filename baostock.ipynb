{
 "cells": [
  {
   "cell_type": "code",
   "execution_count": null,
   "id": "77cb396d",
   "metadata": {},
   "outputs": [],
   "source": [
    "import baostock as bs\n",
    "import pandas as pd"
   ]
  },
  {
   "cell_type": "code",
   "execution_count": null,
   "id": "788c9ca2",
   "metadata": {},
   "outputs": [],
   "source": [
    "lg = bs.login()\n",
    "print('login respond error_code:'+lg.error_code)\n",
    "print('login respond  error_msg:'+lg.error_msg)"
   ]
  },
  {
   "cell_type": "code",
   "execution_count": null,
   "id": "83da0e4b",
   "metadata": {},
   "outputs": [],
   "source": [
    "rs = bs.query_history_k_data_plus(\"sh.601899\",\n",
    "    \"Date,Code,Open,High,Low,Close,Preclose,Volume,Amount,adjustflag,Turn,tradestatus,pctChg,isST\",\n",
    "    start_date='2020-07-01', end_date='2022-04-30',\n",
    "    frequency=\"d\", adjustflag=\"3\")\n",
    "print('query_history_k_data_plus respond error_code:'+rs.error_code)\n",
    "print('query_history_k_data_plus respond  error_msg:'+rs.error_msg)"
   ]
  },
  {
   "cell_type": "code",
   "execution_count": null,
   "id": "5e37bc44",
   "metadata": {},
   "outputs": [],
   "source": [
    "data_list = []\n",
    "while (rs.error_code == '0') & rs.next():\n",
    "    data_list.append(rs.get_row_data())\n",
    "result = pd.DataFrame(data_list, columns=rs.fields)"
   ]
  },
  {
   "cell_type": "code",
   "execution_count": null,
   "id": "3c539170",
   "metadata": {},
   "outputs": [],
   "source": [
    "result.to_csv(\"zijin.csv\", index=False)\n",
    "print(result)"
   ]
  },
  {
   "cell_type": "code",
   "execution_count": null,
   "id": "a83472d5",
   "metadata": {},
   "outputs": [],
   "source": [
    "bs.logout()"
   ]
  },
  {
   "cell_type": "code",
   "execution_count": null,
   "id": "6c5d1523",
   "metadata": {},
   "outputs": [],
   "source": []
  }
 ],
 "metadata": {
  "kernelspec": {
   "display_name": "Python 3 (ipykernel)",
   "language": "python",
   "name": "python3"
  },
  "language_info": {
   "codemirror_mode": {
    "name": "ipython",
    "version": 3
   },
   "file_extension": ".py",
   "mimetype": "text/x-python",
   "name": "python",
   "nbconvert_exporter": "python",
   "pygments_lexer": "ipython3",
   "version": "3.9.7"
  }
 },
 "nbformat": 4,
 "nbformat_minor": 5
}
